{
 "cells": [
  {
   "cell_type": "markdown",
   "metadata": {},
   "source": [
    "<script>\n",
    "  (function(i,s,o,g,r,a,m){i['GoogleAnalyticsObject']=r;i[r]=i[r]||function(){\n",
    "  (i[r].q=i[r].q||[]).push(arguments)},i[r].l=1*new Date();a=s.createElement(o),\n",
    "  m=s.getElementsByTagName(o)[0];a.async=1;a.src=g;m.parentNode.insertBefore(a,m)\n",
    "  })(window,document,'script','https://www.google-analytics.com/analytics.js','ga');\n",
    "\n",
    "  ga('create', 'UA-50838873-3', 'auto');\n",
    "  ga('send', 'pageview');\n",
    "\n",
    "</script>"
   ]
  },
  {
   "cell_type": "markdown",
   "metadata": {
    "deletable": true,
    "editable": true
   },
   "source": [
    "# Measuring Cardiac Output: Turkeys on Treadymills\n",
    "\n",
    "\n",
    "---\n",
    "\n",
    "**GOALS**:\n",
    "\n",
    "- Connect Summations to Cardiac Output problems\n",
    "\n",
    "- Use summations to solve problems from biology\n",
    "\n",
    "---\n",
    "\n",
    "\n",
    "This notebook applies our techniques for area approximation to the problem of measuring Cardiac Output.  This is a measure of how fast the heart is circulating blood, and has obvious important consequences for humans and animals.  The image below comes from a study on the cardiac output of Turkeys.\n",
    "\n",
    "![](images/turkey_treadmill.png)\n",
    "\n",
    "## Dye Dillution Method\n",
    "\n",
    "The main idea of the Dye Dillution method is to inject dye into a subjects blood, and measure how much of the dye flows through the heart over small time intervals. From Wikipedia. \n",
    "\n",
    ">The dye dilution method is done by rapidly injecting a dye, indocyanine green, into the right atrium of the heart. The dye flows with the blood into the aorta. A probe is inserted into the aorta to measure the concentration of the dye leaving the heart at equal time intervals [0, T] until the dye has cleared. Let c(t) be the concentration of the dye at time t. By dividing the time intervals from [0, T] into subintervals Δt...\n",
    "\n",
    "\n",
    "In the example of the Turkey on the Treadmill, a device was implanted to monitor the dispersion of dye in the Turkey while running on a treadmill.  This could then be compared to Turkey's hear rates who were relaxing in soft armchairs.  This example comes from the study *Effect of Exercis on Cardiac Output and Other Cardiovascular Parameters of Heavy Turkeys and Relevance to the Sudden Death Syndrome,* by Boulianne, et al in the Journal of Avian Diseases, 37, 1993.\n"
   ]
  },
  {
   "cell_type": "markdown",
   "metadata": {
    "deletable": true,
    "editable": true
   },
   "source": [
    "## Example I\n",
    "\n",
    "Imagine that we have the following data on dye concentration over the course of 26 seconds.  The intervals are equal at 1 second.  Let's create two lists for the time intervals and the concentration measurements to plot them."
   ]
  },
  {
   "cell_type": "code",
   "execution_count": 45,
   "metadata": {
    "collapsed": true,
    "deletable": true,
    "editable": true
   },
   "outputs": [],
   "source": [
    "time = [i for i in range(25)]"
   ]
  },
  {
   "cell_type": "code",
   "execution_count": 46,
   "metadata": {
    "collapsed": true,
    "deletable": true,
    "editable": true
   },
   "outputs": [],
   "source": [
    "concentration = [0, 0, 0, 0.1, 0.6, 0.85, 1.38, 1.9, 2.6, 2.9, 3.4, 3.9, 4.0, 4.1, 4.0, 3.7, 2.9, 2.2, 1.5, 1.1, 0.8, 0.8, 0.9, 0.9, 0.9]"
   ]
  },
  {
   "cell_type": "code",
   "execution_count": 47,
   "metadata": {
    "collapsed": true,
    "deletable": true,
    "editable": true
   },
   "outputs": [],
   "source": [
    "%matplotlib inline\n",
    "import matplotlib.pyplot as plt\n",
    "import numpy as np"
   ]
  },
  {
   "cell_type": "code",
   "execution_count": 48,
   "metadata": {
    "collapsed": false,
    "deletable": true,
    "editable": true
   },
   "outputs": [
    {
     "data": {
      "text/plain": [
       "<matplotlib.text.Text at 0x116d6b4a8>"
      ]
     },
     "execution_count": 48,
     "metadata": {},
     "output_type": "execute_result"
    },
    {
     "data": {
      "image/png": "[encoded data removed]",
      "text/plain": [
       "<matplotlib.figure.Figure at 0x116c3da58>"
      ]
     },
     "metadata": {},
     "output_type": "display_data"
    }
   ],
   "source": [
    "plt.plot(time, concentration, 'o')\n",
    "plt.title(\"Data for Dye Dillution Technique\")\n",
    "plt.xlabel(\"Time in Seconds\")\n",
    "plt.ylabel(\"Concentration in mg/liter\")"
   ]
  },
  {
   "cell_type": "markdown",
   "metadata": {
    "deletable": true,
    "editable": true
   },
   "source": [
    "We can consider the *cardiac output* as the total volume of dye measured divided by the time as follows:\n",
    "\n",
    "$$R = V/T$$\n",
    "\n",
    "Similarly, we can express this as the amount of dye(D) over the volume(CT) as\n",
    "\n",
    "$$R = D/CT$$\n",
    "\n",
    "Hence, in our example above, the $CT$ is the sum of our list `concentration`.  "
   ]
  },
  {
   "cell_type": "code",
   "execution_count": 8,
   "metadata": {
    "collapsed": false,
    "deletable": true,
    "editable": true
   },
   "outputs": [
    {
     "data": {
      "text/plain": [
       "45.42999999999999"
      ]
     },
     "execution_count": 8,
     "metadata": {},
     "output_type": "execute_result"
    }
   ],
   "source": [
    "sum(concentration)"
   ]
  },
  {
   "cell_type": "markdown",
   "metadata": {
    "deletable": true,
    "editable": true
   },
   "source": [
    "Suppose, for example, that we injected 5 liters of dye in the example above.  The cardiac output would be:\n",
    "\n",
    "$$R = \\frac{6}{45.43}$$"
   ]
  },
  {
   "cell_type": "code",
   "execution_count": 49,
   "metadata": {
    "collapsed": false,
    "deletable": true,
    "editable": true
   },
   "outputs": [
    {
     "data": {
      "text/plain": [
       "0.13207131851199647"
      ]
     },
     "execution_count": 49,
     "metadata": {},
     "output_type": "execute_result"
    }
   ],
   "source": [
    "6/45.43"
   ]
  },
  {
   "cell_type": "markdown",
   "metadata": {
    "deletable": true,
    "editable": true
   },
   "source": [
    "Or 0.1321 liters per second.  "
   ]
  },
  {
   "cell_type": "code",
   "execution_count": 50,
   "metadata": {
    "collapsed": false,
    "deletable": true,
    "editable": true
   },
   "outputs": [
    {
     "data": {
      "text/plain": [
       "7.924279110719788"
      ]
     },
     "execution_count": 50,
     "metadata": {},
     "output_type": "execute_result"
    }
   ],
   "source": [
    "6/45.43*60"
   ]
  },
  {
   "cell_type": "markdown",
   "metadata": {
    "deletable": true,
    "editable": true
   },
   "source": [
    "7.9243 liters per minute.\n",
    "\n",
    "### Example II\n",
    "\n",
    "Suppose we have the following information about the flow of dye as follows.  Find the *cardiac output* for this example."
   ]
  },
  {
   "cell_type": "code",
   "execution_count": 51,
   "metadata": {
    "collapsed": true,
    "deletable": true,
    "editable": true
   },
   "outputs": [],
   "source": [
    "t2 = [i for i in range(27)]\n",
    "c2 = [0, 0.1, 0.2, 0.6, 1.2, 2.0, 3.0, 4.2, 5.5, 6.3, 7.0, 7.5, 7.8, 7.9, 7.9, 7.9, 7.8, 6.9, 6.1, 5.4, 4.7, 4.1, 3.5, 2.8, 2.1, 2.1, 2.2]     "
   ]
  },
  {
   "cell_type": "code",
   "execution_count": 52,
   "metadata": {
    "collapsed": false,
    "deletable": true,
    "editable": true
   },
   "outputs": [
    {
     "data": {
      "text/plain": [
       "[<matplotlib.lines.Line2D at 0x116fa0cc0>]"
      ]
     },
     "execution_count": 52,
     "metadata": {},
     "output_type": "execute_result"
    },
    {
     "data": {
      "image/png": "[encoded data removed]",
      "text/plain": [
       "<matplotlib.figure.Figure at 0x116e836a0>"
      ]
     },
     "metadata": {},
     "output_type": "display_data"
    }
   ],
   "source": [
    "plt.plot(t2, c2, 'o')"
   ]
  },
  {
   "cell_type": "markdown",
   "metadata": {
    "deletable": true,
    "editable": true
   },
   "source": [
    "## Example III\n",
    "\n",
    "The table below gives measurements after an injection of 5.5 mg of dye.  The readings are given in mg/L.\n",
    "\n",
    "| time | concentration in mg/L |\n",
    "| ---------- | ------------ |\n",
    "| 0 | 0.0     |\n",
    "| 2 | 4.1    |\n",
    "| 4 | 8.9    |\n",
    "| 6 | 8.5    |\n",
    "| 8 | 6.7    |\n",
    "| 10 | 4.3    |\n",
    "| 12 | 2.5    |\n",
    "| 14 | 1.2    |\n",
    "| 16 | 0.2    |"
   ]
  },
  {
   "cell_type": "markdown",
   "metadata": {
    "deletable": true,
    "editable": true
   },
   "source": [
    "## Example IV\n",
    "\n",
    "The table below demonstrates a 6 mg injection of dye into a heart.  Use the data to approximate the cardiac output.  What kind of a creature could this be?\n",
    "\n",
    "| time | concentration in mg/L |\n",
    "| ----- | ------ |\n",
    "| 0 | 0 |\n",
    "| 2 | 1.9 |\n",
    "| 4 | 3.3 |\n",
    "| 6 | 5.1 |\n",
    "| 8 | 7.6 |\n",
    "| 10 | 7.1 |\n",
    "| 12 | 5.8 |\n",
    "| 14 | 4.7 |\n",
    "| 16 | 3.3 |\n",
    "| 18 | 2.1 |\n",
    "| 20 | 1.1 |\n",
    "| 22 | 0.5 |\n",
    "| 24 | 0 |"
   ]
  }
 ],
 "metadata": {
  "kernelspec": {
   "display_name": "Python 3",
   "language": "python",
   "name": "python3"
  },
  "language_info": {
   "codemirror_mode": {
    "name": "ipython",
    "version": 3
   },
   "file_extension": ".py",
   "mimetype": "text/x-python",
   "name": "python",
   "nbconvert_exporter": "python",
   "pygments_lexer": "ipython3",
   "version": "3.5.3"
  }
 },
 "nbformat": 4,
 "nbformat_minor": 2
}
